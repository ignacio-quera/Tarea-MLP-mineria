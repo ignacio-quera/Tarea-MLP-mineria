{
  "cells": [
    {
      "cell_type": "markdown",
      "metadata": {
        "id": "z0YO6a5F4Fta"
      },
      "source": [
        "# Actividad 4: Regresión logística"
      ]
    },
    {
      "cell_type": "code",
      "execution_count": 35,
      "metadata": {
        "id": "Dzv3kfrnPx8E"
      },
      "outputs": [],
      "source": [
        "import numpy as np\n",
        "import pandas as pd\n",
        "from sklearn.utils import resample\n",
        "from sklearn.model_selection import train_test_split\n",
        "from sklearn.metrics import accuracy_score\n",
        "\n",
        "from sklearn.linear_model import LogisticRegression\n",
        "from sklearn.metrics import accuracy_score, confusion_matrix\n",
        "\n",
        "import matplotlib.pyplot as plt\n",
        "import seaborn as sn\n",
        "\n",
        "from tqdm import trange # tqdm nos permite medir el tiempo por iteración.\n",
        "import warnings # ignoramos algunas warnings molestas.\n",
        "warnings.filterwarnings('ignore')"
      ]
    },
    {
      "cell_type": "markdown",
      "metadata": {
        "id": "kRL8Mm8lQFnV"
      },
      "source": [
        "En esta actividad trabajaremos con el dataset de [Credit Card Fraud](https://www.kaggle.com/datasets/dhanushnarayananr/credit-card-fraud). A continuación separamos el dataset en muestras de entrenamiento y prueba:"
      ]
    },
    {
      "cell_type": "code",
      "execution_count": 36,
      "metadata": {
        "colab": {
          "base_uri": "https://localhost:8080/"
        },
        "id": "yReN7rdyQW68",
        "outputId": "285d6c57-88d0-4b0e-fe0b-3a2aae008636"
      },
      "outputs": [
        {
          "name": "stdout",
          "output_type": "stream",
          "text": [
            "X: (50000, 7) y: (50000,)\n",
            "Ratio of fraud:  10 : 1\n",
            "\n",
            "X_train: (33500, 7) y_train: (33500,)\n",
            "Ratio of fraud in train:  10 : 1\n",
            "\n",
            "X_test: (16500, 7) y_test: (16500,)\n",
            "Ratio of fraud in test:  10 : 1\n",
            "\n"
          ]
        }
      ],
      "source": [
        "df = pd.read_csv(\"card_transdata.csv\")\n",
        "y = df['fraud'].to_numpy()\n",
        "df.drop(columns=['fraud'], inplace=True)\n",
        "X = df.to_numpy()\n",
        "\n",
        "N = 50000 # No cambiar esto!\n",
        "# Sampleamos N datos estratificando por y\n",
        "X, y = resample(X, y, n_samples=N, stratify=y)\n",
        "print(\"X:\", X.shape, \"y:\",y.shape)\n",
        "print(\"Ratio of fraud: \", round(np.count_nonzero(y == 0) / np.count_nonzero(y == 1)), \": 1\\n\")\n",
        "\n",
        "# Separamos el dataset en train y test\n",
        "X_train, X_test, y_train, y_test = train_test_split(X, y, test_size=0.33, random_state=42, stratify=y)\n",
        "print(\"X_train:\", X_train.shape, \"y_train:\",y_train.shape)\n",
        "print(\"Ratio of fraud in train: \", round(np.count_nonzero(y_train == 0) / np.count_nonzero(y_train == 1)), \": 1\\n\")\n",
        "\n",
        "print(\"X_test:\", X_test.shape, \"y_test:\",y_test.shape)\n",
        "print(\"Ratio of fraud in test: \", round(np.count_nonzero(y_test == 0) / np.count_nonzero(y_test == 1)), \": 1\\n\")"
      ]
    },
    {
      "cell_type": "markdown",
      "metadata": {
        "id": "9Pfss7p5Pvot"
      },
      "source": [
        "## Mejorando una regresión logística con numpy."
      ]
    },
    {
      "cell_type": "markdown",
      "metadata": {
        "id": "0rabB_RM4qSe"
      },
      "source": [
        "**Recordatorio**: De forma general, a partir de una matriz de características $X$ (con una columna de 1's para el intersecto) y un vector de coeficientes o pesos $\\beta$ (el cual incluye el intersecto) podemos definir unar regresión logística multiple como:\n",
        "\n",
        "$$P = \\frac{1}{1 + e^{-\\beta X}}$$\n",
        "\n",
        "Consideremos una regresión logística que emplea descenso de gradiente para ajustar sus coeficientes. El gradiente de la función objetivo para cada $\\beta_i$ es:\n",
        "$$ \\frac{\\delta}{\\delta \\beta_i}L(\\beta) = \\frac{lr}{m} \\sum_{1 \\leq j \\leq m} (\\sigma(\\beta^T x^j) - y_j) x_i^j $$\n",
        "\n",
        "Donde:\n",
        "- $L(\\beta)$ es la función de verosimilitud\n",
        "- $lr$ es el learning rate -\n",
        "- $\\beta$ es el vector de coeficientes para la regresión\n",
        "- tenemos $m$ filas en nuestro _dataset_\n",
        "- $\\sigma(x)$ es la función $\\frac{1}{1 + e^{-x}}$\n",
        "- $x^j$ es la fila $j$ de nuestro dataset (y asociado tiene su respuesta $y_j$)\n",
        "- $x_i^j$ es la columna $i$ de la fila $j$ en nuestro _dataset_."
      ]
    },
    {
      "cell_type": "markdown",
      "metadata": {
        "id": "UTW7hk1N-Xgd"
      },
      "source": [
        "A continuación les entregamos una implementación de la regresión logística. Sin embargo, el método fit es algo ineficiente y no aprovecha todas las herramientas que ofrece numpy. Tu tarea es completar el método *fast_fit* **sin agregar más loops** y comprobar que de esta forma es más rápido que el *fit* original. Para esto basta que compares las iteraciones por segundo que registra trange().\n",
        "\n",
        "**Hint**: Es posible prescindir del indice $j$ en el descenso de gradiente multiplicando vectorialmente. Para esto pueden utilizar [np.dot](https://numpy.org/doc/stable/reference/generated/numpy.dot.html) o el operador @. No se necesitan más de 1 o 2 líneas de código. Revisa bien que se está haciendo en la sumatoria del descenso de gradiente."
      ]
    },
    {
      "cell_type": "code",
      "execution_count": 23,
      "metadata": {
        "id": "vQW2ecWQTZyl"
      },
      "outputs": [],
      "source": [
        "def sigmoid(x):    \n",
        "    output = 1 / (1 + np.exp(-x))\n",
        "    return output\n",
        "\n",
        "class LogisticRegression:\n",
        "    def __init__(self, number_of_features, learning_rate=0.001, number_of_iterations=100):\n",
        "        self.learning_rate = learning_rate\n",
        "        self.number_of_iterations = number_of_iterations\n",
        "        self.beta = np.zeros(number_of_features + 1) # Consideramos tambien el intercepto.\n",
        "        \n",
        "    def fit(self, X, y):\n",
        "        X = np.c_[np.ones(X.shape[0]), X] # Se concatena una columna de 1's para multiplicar el intercepto. \n",
        "        for _ in trange(self.number_of_iterations):\n",
        "            for i in range(X.shape[1]):\n",
        "                for j in range(X.shape[0]):\n",
        "                    self.beta[i] = self.beta[i] - self.learning_rate/(X.shape[0]) * (sigmoid(self.beta @ X[j]) - y[j]) * X[j][i]\n",
        "    \n",
        "    def fast_fit(self, X, y):\n",
        "        X = np.c_[np.ones(X.shape[0]), X]\n",
        "        for _ in trange(self.number_of_iterations):\n",
        "            for i in range(X.shape[1]):\n",
        "                # COMPLETAR AQUÍ SIN AGREGAR MÁS LOOPS\n",
        "                \n",
        "                self.beta[i] = self.beta[i] - self.learning_rate/(X.shape[0]) * (sigmoid(self.beta @ X[j]) - y[j]) * X[j][i]\n",
        "                pass\n",
        "\n",
        "    def predict(self, x):\n",
        "        x = np.c_[np.ones(x.shape[0]), x] # Se concatena una columna de 1's para multiplicar el intercepto. \n",
        "        pred = (sigmoid(self.beta @ x.T) > 0.5) * 1 # Consideramos que la clase es 1 si P > 0.5\n",
        "        return pred"
      ]
    },
    {
      "cell_type": "code",
      "execution_count": 75,
      "metadata": {},
      "outputs": [
        {
          "data": {
            "text/plain": [
              "array([[30, 18],\n",
              "       [38, 14]])"
            ]
          },
          "execution_count": 75,
          "metadata": {},
          "output_type": "execute_result"
        }
      ],
      "source": [
        "a = [[4, 7],\n",
        "     [8, 3]]\n",
        "b = [[4, 1],\n",
        "     [2, 2]]\n",
        "np.dot(a, b)"
      ]
    },
    {
      "cell_type": "markdown",
      "metadata": {
        "id": "VDQVlWY4DRYN"
      },
      "source": [
        "Como pueden ver, para ~50000 datos de entrenamiento el método *fit* toma más de 2 minutos (1.4 it/s)."
      ]
    },
    {
      "cell_type": "code",
      "execution_count": 24,
      "metadata": {
        "colab": {
          "base_uri": "https://localhost:8080/"
        },
        "id": "_RAq9Hb_e4A-",
        "outputId": "dc3fe54d-6880-4d59-f99c-6e1c49643dee"
      },
      "outputs": [
        {
          "name": "stderr",
          "output_type": "stream",
          "text": [
            "100%|██████████| 100/100 [04:05<00:00,  2.46s/it]\n"
          ]
        },
        {
          "data": {
            "text/plain": [
              "0.9126060606060606"
            ]
          },
          "execution_count": 24,
          "metadata": {},
          "output_type": "execute_result"
        }
      ],
      "source": [
        "reglog = LogisticRegression(X.shape[1], learning_rate=0.001, number_of_iterations=100)\n",
        "reglog.fit(X_train, y_train)\n",
        "y_pred = reglog.predict(X_test)\n",
        "accuracy_score(y_test, y_pred)"
      ]
    },
    {
      "cell_type": "code",
      "execution_count": 73,
      "metadata": {},
      "outputs": [
        {
          "data": {
            "text/plain": [
              "33500"
            ]
          },
          "execution_count": 73,
          "metadata": {},
          "output_type": "execute_result"
        }
      ],
      "source": [
        "\n",
        "X_train.shape[0]\n",
        "# li = []\n",
        "# for i in range(X_train.shape[1]):\n",
        "#     # print(X_train[i])\n",
        "#     var = X_train[i]\n",
        "#     li.append(var)\n",
        "#     # print(pd.DataFrame(var))\n",
        "# # print(X_train.ndim)\n",
        "# # pd.DataFrame(li[1])\n",
        "# pd.DataFrame(X_train)\n",
        "# X = np.c_[np.ones(X_train.shape[0]), X_train]\n",
        "# print(X)"
      ]
    },
    {
      "cell_type": "code",
      "execution_count": null,
      "metadata": {},
      "outputs": [],
      "source": [
        "reglog.fast_fit(X_train, y_train)\n",
        "y_pred = reglog.predict(X_test)\n",
        "accuracy_score(y_test, y_pred)"
      ]
    },
    {
      "cell_type": "code",
      "execution_count": 26,
      "metadata": {},
      "outputs": [
        {
          "data": {
            "image/png": "[encoded data removed]",
            "text/plain": [
              "<Figure size 432x288 with 2 Axes>"
            ]
          },
          "metadata": {},
          "output_type": "display_data"
        }
      ],
      "source": [
        "array = confusion_matrix(y_test, y_pred)\n",
        "df_cm = pd.DataFrame(array, range(2), range(2))\n",
        "# plt.figure(figsize=(10,7))\n",
        "sn.set(font_scale=1.4) # for label size\n",
        "sn.heatmap(df_cm, annot=True, annot_kws={\"size\": 16}) # font size\n",
        "\n",
        "plt.show()"
      ]
    },
    {
      "cell_type": "markdown",
      "metadata": {
        "id": "PvatSUIqDugO"
      },
      "source": [
        "Muestra ahora como *fast_fit* es más rápido y obtiene una *accuracy* similar."
      ]
    },
    {
      "cell_type": "code",
      "execution_count": null,
      "metadata": {
        "id": "h8H1AjeVabRF"
      },
      "outputs": [],
      "source": [
        "# Responde aquí"
      ]
    },
    {
      "cell_type": "markdown",
      "metadata": {
        "id": "s6ZCHHZylg83"
      },
      "source": [
        "## Analisis de predicciones."
      ]
    },
    {
      "cell_type": "markdown",
      "metadata": {
        "id": "wxZxzM8BYika"
      },
      "source": [
        "Para esta sección puedes utilizar LogisticRegression de sklearn.linear_model."
      ]
    },
    {
      "cell_type": "code",
      "execution_count": 27,
      "metadata": {
        "id": "BdP7Nb-clk23"
      },
      "outputs": [],
      "source": [
        "from sklearn.linear_model import LogisticRegression\n",
        "from sklearn.metrics import accuracy_score, confusion_matrix\n",
        "\n",
        "import matplotlib.pyplot as plt\n",
        "import seaborn as sn"
      ]
    },
    {
      "cell_type": "markdown",
      "metadata": {
        "id": "WazYAZxTsp4h"
      },
      "source": [
        "Entrena un modelo de regresión logística con los sets de train y utiliza el accuracy_score para tener una idea de que tan bien predice tu modelo (recuerda predecir para los sets de test). Luego, genera la matriz de confusión y **comenta** que dice cada dato en ella. **Explica** en tus palabras a que se debe la diferencia entre los valores en cada casilla."
      ]
    },
    {
      "cell_type": "code",
      "execution_count": 28,
      "metadata": {
        "id": "7Iq-myoPNzfh"
      },
      "outputs": [
        {
          "data": {
            "text/plain": [
              "0.9553333333333334"
            ]
          },
          "execution_count": 28,
          "metadata": {},
          "output_type": "execute_result"
        }
      ],
      "source": [
        "# Entrena la regresión y calcula el accuracy\n",
        "reglog = LogisticRegression(max_iter=100)\n",
        "reglog.fit(X_train, y_train)\n",
        "y_pred = reglog.predict(X_test)\n",
        "accuracy_score(y_test, y_pred)"
      ]
    },
    {
      "cell_type": "code",
      "execution_count": 34,
      "metadata": {
        "id": "V-qBdbqVPfo8"
      },
      "outputs": [
        {
          "data": {
            "image/png": "[encoded data removed]",
            "text/plain": [
              "<Figure size 432x288 with 2 Axes>"
            ]
          },
          "metadata": {},
          "output_type": "display_data"
        }
      ],
      "source": [
        "# Obtén la matriz de confusión\n",
        "array = confusion_matrix(y_test, y_pred)\n",
        "df_cm = pd.DataFrame(array, range(2), range(2))\n",
        "# plt.figure(figsize=(10,7))\n",
        "sn.set(font_scale=1.4) # for label size\n",
        "sn.heatmap(df_cm, annot=True, annot_kws={\"size\": 16}) # font size\n",
        "\n",
        "plt.show()"
      ]
    },
    {
      "cell_type": "markdown",
      "metadata": {},
      "source": [
        "La matriz de confusión presenta 4 sectores, un verdadero positivo, un falso positivo, un falso negativo y un verdadero negativo. Cada uno de estos cuadrandtes representa lo que pasa con un valor clasificado. Los verdaderos positivos muestran aquellos datos que fueron clasificados correctamente en su categoria, los falsos positivos fueron los que fueron clasificados equivocadamente en una clase en particular. Las verdaderos negativos muestran los datos que no fueron clasificados en una clase de manera correcta, y los falsos negativos presentan aquellos dato que no fueron clasificados en una clase pero debería hacer sido clasificados.\n",
        "\n",
        "Se puede ver como la mayoría de los datos son verdaderos positivos, lo que indica un correcto funcionamiento del algoritmo de clasificación."
      ]
    },
    {
      "cell_type": "markdown",
      "metadata": {
        "id": "6hgWg-Lvu9xR"
      },
      "source": [
        "Una vez hecha la matriz de confusion, utiliza sus datos para obtener la sensibilidad y la especificidad  del modelo. Muestra estos datos y **explica** que significan aplicados al tema.\n",
        "\n",
        "**Hint**: averigua sobre verdadero positivo, negativo y falsos negativos y positivos"
      ]
    },
    {
      "cell_type": "code",
      "execution_count": 79,
      "metadata": {
        "id": "wxU7S3uVtgyF"
      },
      "outputs": [
        {
          "data": {
            "text/plain": [
              "(0.9912338956036658, 0.5804438280166435)"
            ]
          },
          "execution_count": 79,
          "metadata": {},
          "output_type": "execute_result"
        }
      ],
      "source": [
        "# Calcula la sensibilidad y especifidad\n",
        "tn, fp, fn, tp = array.ravel()\n",
        "(tn, fp, fn, tp)\n",
        "specificity = tn / (tn+fp)\n",
        "sensibility = tp / (tp+fn)\n",
        "(specificity, sensibility)"
      ]
    },
    {
      "cell_type": "markdown",
      "metadata": {
        "id": "6Ev3mv_BbCNm"
      },
      "source": [
        "Finalmente, la regresión logística nos permite obtener la probabilidad de que un dato pertenezca a una clase. Las instancias de LogisticRegression de sklearn nos entregan estas probabilidades mediante el método [predict_proba](https://scikit-learn.org/stable/modules/generated/sklearn.linear_model.LogisticRegression.html#sklearn.linear_model.LogisticRegression.predict_proba). Investiga como utilizarlo y haz un gŕafico que, para cada dato en test, permita visualizar la probabilidad de que un dato pertenezca a una clase vs su clase verdadera.\n",
        "\n",
        "**Hint**: queda a tu criterio como hacer este gráfico mientras que se aprecie lo pedido. Sin embargo, se recomienda un histograma por clase donde se agrupa por probabilidades en cada columna (pueden usar el color para mostrar la clase verdadera)."
      ]
    },
    {
      "cell_type": "code",
      "execution_count": 32,
      "metadata": {
        "id": "SZ3vfz-zZXu6"
      },
      "outputs": [
        {
          "data": {
            "text/html": [
              "<div>\n",
              "<style scoped>\n",
              "    .dataframe tbody tr th:only-of-type {\n",
              "        vertical-align: middle;\n",
              "    }\n",
              "\n",
              "    .dataframe tbody tr th {\n",
              "        vertical-align: top;\n",
              "    }\n",
              "\n",
              "    .dataframe thead th {\n",
              "        text-align: right;\n",
              "    }\n",
              "</style>\n",
              "<table border=\"1\" class=\"dataframe\">\n",
              "  <thead>\n",
              "    <tr style=\"text-align: right;\">\n",
              "      <th></th>\n",
              "      <th>0</th>\n",
              "      <th>1</th>\n",
              "    </tr>\n",
              "  </thead>\n",
              "  <tbody>\n",
              "    <tr>\n",
              "      <th>0</th>\n",
              "      <td>0.999793</td>\n",
              "      <td>0.000207</td>\n",
              "    </tr>\n",
              "    <tr>\n",
              "      <th>1</th>\n",
              "      <td>0.999937</td>\n",
              "      <td>0.000063</td>\n",
              "    </tr>\n",
              "    <tr>\n",
              "      <th>2</th>\n",
              "      <td>0.918993</td>\n",
              "      <td>0.081007</td>\n",
              "    </tr>\n",
              "    <tr>\n",
              "      <th>3</th>\n",
              "      <td>0.972469</td>\n",
              "      <td>0.027531</td>\n",
              "    </tr>\n",
              "    <tr>\n",
              "      <th>4</th>\n",
              "      <td>0.999803</td>\n",
              "      <td>0.000197</td>\n",
              "    </tr>\n",
              "    <tr>\n",
              "      <th>...</th>\n",
              "      <td>...</td>\n",
              "      <td>...</td>\n",
              "    </tr>\n",
              "    <tr>\n",
              "      <th>16495</th>\n",
              "      <td>0.982573</td>\n",
              "      <td>0.017427</td>\n",
              "    </tr>\n",
              "    <tr>\n",
              "      <th>16496</th>\n",
              "      <td>0.975416</td>\n",
              "      <td>0.024584</td>\n",
              "    </tr>\n",
              "    <tr>\n",
              "      <th>16497</th>\n",
              "      <td>0.999837</td>\n",
              "      <td>0.000163</td>\n",
              "    </tr>\n",
              "    <tr>\n",
              "      <th>16498</th>\n",
              "      <td>0.963092</td>\n",
              "      <td>0.036908</td>\n",
              "    </tr>\n",
              "    <tr>\n",
              "      <th>16499</th>\n",
              "      <td>0.164140</td>\n",
              "      <td>0.835860</td>\n",
              "    </tr>\n",
              "  </tbody>\n",
              "</table>\n",
              "<p>16500 rows × 2 columns</p>\n",
              "</div>"
            ],
            "text/plain": [
              "              0         1\n",
              "0      0.999793  0.000207\n",
              "1      0.999937  0.000063\n",
              "2      0.918993  0.081007\n",
              "3      0.972469  0.027531\n",
              "4      0.999803  0.000197\n",
              "...         ...       ...\n",
              "16495  0.982573  0.017427\n",
              "16496  0.975416  0.024584\n",
              "16497  0.999837  0.000163\n",
              "16498  0.963092  0.036908\n",
              "16499  0.164140  0.835860\n",
              "\n",
              "[16500 rows x 2 columns]"
            ]
          },
          "execution_count": 32,
          "metadata": {},
          "output_type": "execute_result"
        }
      ],
      "source": [
        "# Haz tu gráfico aquí\n",
        "y_pred_proba = reglog.predict_proba(X_test)\n",
        "df_proba = pd.DataFrame(y_pred_proba)\n",
        "df_proba\n"
      ]
    }
  ],
  "metadata": {
    "colab": {
      "collapsed_sections": [],
      "provenance": []
    },
    "kernelspec": {
      "display_name": "Python 3.7.9 64-bit",
      "language": "python",
      "name": "python3"
    },
    "language_info": {
      "codemirror_mode": {
        "name": "ipython",
        "version": 3
      },
      "file_extension": ".py",
      "mimetype": "text/x-python",
      "name": "python",
      "nbconvert_exporter": "python",
      "pygments_lexer": "ipython3",
      "version": "3.7.9"
    },
    "vscode": {
      "interpreter": {
        "hash": "3c3a384c40a9a981b2ee63266612c19629e9c787808185d34a92557e569d1c5f"
      }
    }
  },
  "nbformat": 4,
  "nbformat_minor": 0
}
