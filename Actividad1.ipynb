{
  "nbformat": 4,
  "nbformat_minor": 0,
  "metadata": {
    "colab": {
      "name": "AC01.ipynb",
      "provenance": [],
      "collapsed_sections": []
    },
    "kernelspec": {
      "name": "python3",
      "display_name": "Python 3"
    },
    "language_info": {
      "name": "python"
    }
  },
  "cells": [
    {
      "cell_type": "markdown",
      "source": [
        "#Actividad 1: Clustering de Civilizaciones"
      ],
      "metadata": {
        "id": "R_IJbbl-9td4"
      }
    },
    {
      "cell_type": "markdown",
      "source": [
        "La teoría de civilizaciones de Samuel Huntington plantea como hipótesis que el mayor nivel de identificación cultural de una persona está dado por la civilización a la que pertenece. Citando el artículo de 1993 de Huntington:\n",
        "\n",
        "> *Los Estados-nación seguirán siendo los actores más poderosos del panorama internacional, pero los principales conflictos de la política global ocurrirán entre naciones y grupos de naciones pertenecientes a diferentes civilizaciones. El choque de civilizaciones dominará la política global. Las fallas entre las civilizaciones serán los frentes de batalla del futuro.*\n",
        "\n",
        "Aplicando la hipótesis de Huntington, se pueden explicar varios de los conflictos mundiales más recientes. Por ejemplo, el libro predijo como inminente un conflicto entre Rusia y Ucrania originado por la coexistencia fuerzas occidentales y ortodoxas dentro del Ucrania.\n",
        "\n",
        "\n",
        "A continuación, se presenta un mapamundi que visualiza la división de los países entre civilizaciones.\n",
        "\n",
        "<br>\n",
        "<center>\n",
        "<img src=\"https://upload.wikimedia.org/wikipedia/commons/thumb/c/ca/Civilizations_map.png/750px-Civilizations_map.png\" width=\"400\"/>\n",
        "\n",
        "Fuente: https://es.wikipedia.org/wiki/Choque_de_civilizaciones\n",
        "\n",
        "</center>\n",
        "\n",
        "## ¿Cuál es tu tarea?\n",
        "En esta actividad deberás identificar clusters que representen una cantidad *n* de civilizaciones del mundo y evaluar la \"calidad\" de los clusters encontrados. Dada con una base de datos con información que describe a distintos países del mundo, deberás utilizar el algoritmo de clustering aglomerativo para encontrar la mejor división de los países a través de una búsqueda de hiperparámetros. Luego realizarás una reducción de dimensionalidad que usarás para visualizar la mejor combinación y finalmente pondrás a prueba los algoritmos KMeans y MiniBatchKMeans."
      ],
      "metadata": {
        "id": "7tVUQ-Ph-fzg"
      }
    },
    {
      "cell_type": "markdown",
      "source": [
        "## Descripción dataset\n",
        "\n",
        "El *dataset* a utilizar proviene de [World Values Survey](https://www.worldvaluessurvey.org/wvs.jsp), una organización que desde los años 80 realiza encuentas valóricas en distintos países. Trabajaremos con los datos de 81 países recolectados entre 2017 y 2020. En total son 231 preguntas, teniendo cada una distintas respuestas. Cada una de estas respuestas representa a una de las 768 columnas del *dataset*. Por ejemplo, la pregunta `A001` es `Important in life: Family`, la cual es respondida entre los valores 1 y 4. Así, por ejemplo, en Argentina cerca del 91% de las personas responden 1 a esa pregunda (`A001_1`), mientras que el 0% responde con 4. Los temas de las preguntas son variados, entre los que se encuentran las posiciones de las personas de cada país frente a temas como el aborto, la importancia de la religión, el sentimiento de felicidad, la confianza en el gobierno y la valoración de la democracia. De esta forma, describimos a cada pais en función de 768 valores."
      ],
      "metadata": {
        "id": "hA32k7ONBZ_f"
      }
    },
    {
      "cell_type": "markdown",
      "source": [
        "# [0.5 ptos] Parte 1: Carga y preprocesamiento\n",
        "Carga la base de datos que se encuentra en el link, puedes utilizar la función [read_csv](https://pandas.pydata.org/docs/reference/api/pandas.read_csv.html) de `pandas`. Utiliza como identificador de cada fila el nombre de cada pais con el argumento `index_col`."
      ],
      "metadata": {
        "id": "FP-q9qW-C0An"
      }
    },
    {
      "cell_type": "code",
      "source": [
        "import pandas as pd"
      ],
      "metadata": {
        "id": "UPR8-ro_FBKJ"
      },
      "execution_count": null,
      "outputs": []
    },
    {
      "cell_type": "code",
      "source": [
        "url = 'https://drive.google.com/uc?id=1_wiSDk4zy2dJf0ZzJaLslz3IVkruq_wZ'\n",
        "\n",
        "# df = "
      ],
      "metadata": {
        "id": "RoU4nCCF9tLb"
      },
      "execution_count": null,
      "outputs": []
    },
    {
      "cell_type": "markdown",
      "source": [
        "A continuación, realiza una normalización *Min-max* de los datos."
      ],
      "metadata": {
        "id": "AiPEfjVMEyG3"
      }
    },
    {
      "cell_type": "code",
      "execution_count": null,
      "metadata": {
        "id": "3onri25G845w"
      },
      "outputs": [],
      "source": []
    },
    {
      "cell_type": "markdown",
      "source": [
        "# [3 ptos] Parte 2: Clustering jerárquico aglomerativo"
      ],
      "metadata": {
        "id": "OYi34XZvFjEK"
      }
    },
    {
      "cell_type": "markdown",
      "source": [
        "En esta parte deberás hacer clustering de los distintos paises y calcular el *silhouette score* de los distintos clusters que encuentres. El *silhouette score* es una medida que indica la \"calidad\" de los clusters  encontrados al comparar que tan similar son los objetos de los clusters con la separación que tienen con los objetos de los otros clusters.\n",
        "\n",
        "En particular deberas hacer lo siguiente:\n",
        "1. Con la función [`AgglomerativeClustering`](https://scikit-learn.org/stable/modules/generated/sklearn.cluster.AgglomerativeClustering.html) de `sklearn` deberás encontrar *n* clusters con distinas métricas de distancia y criterios de enlace. \n",
        "\n",
        "    - El valor de *n* debe ir entre 5 y 8\n",
        "    - Las métricas de distancia son *euclidean*, *manhattan* y *cosine*\n",
        "    - Los criterios de enlace son *complete*, *average* y *single*\n",
        "\n",
        "  Por lo tanto, se harán un total de 4 x 3 x 3 = 36 aglomeraciones distintas\n",
        "\n",
        "2. Con la función [`silhouette_score`](https://scikit-learn.org/stable/modules/generated/sklearn.metrics.silhouette_score.html) de `sklearn`, calcula el *silhouette score* (valga la redundancia) de los clusters que vayas encontrando. \n",
        "\n",
        "3. Finalmente, ordena tus resultados de forma descendente e indica cuál fue la mejor configuración. ¿Qué métrica de distancia tiene mejores resultados? "
      ],
      "metadata": {
        "id": "6objTLAZFoos"
      }
    },
    {
      "cell_type": "code",
      "source": [
        "from sklearn.cluster import AgglomerativeClustering\n",
        "from sklearn.metrics import silhouette_score\n",
        "\n",
        "# Realiza las distintas configuraciones de clustering aquí\n",
        "\n",
        "# A AgglomerativeClustering le puedes indicar los argumentos con n_clusters, affinity y linkage\n",
        "# A silhouette_score debes entregarle la base de datos y los clusters al que pertenecen los datos"
      ],
      "metadata": {
        "id": "HdkO7MolK3nP"
      },
      "execution_count": null,
      "outputs": []
    },
    {
      "cell_type": "markdown",
      "source": [
        "# [1.5 ptos] Parte 3: Reducción de dimensionalidad y visualización de Información"
      ],
      "metadata": {
        "id": "jeyZyfP5CbzM"
      }
    },
    {
      "cell_type": "markdown",
      "source": [
        "Reduce las 768 características a 2 dimensiones utilizando PCA. Guarda este resultado en un nuevo dataframe. Procura mantener los nombres de los países como índice. Grafica la mejor aglomeración encontrada en la parte anterior, utiliza como marca de color el cluster al que pertenece cada país. Comenta junto a qué países se encuentra Chile.\n",
        "\n",
        "**OJO:** No debes encontrar nuevos clusters con el dataset de dos dimensiones, sino que en base a la mejor aglomeración ya encontrada, debes graficar el resultado. La reducción solo se hace para tener un espacio donde graficar.\n",
        "\n",
        "Para esto puedes utilizar las librerías `matplotlib`, `seaborn` o `altair`."
      ],
      "metadata": {
        "id": "Sw1kioV0DXPY"
      }
    },
    {
      "cell_type": "code",
      "source": [
        "from sklearn.decomposition import PCA\n",
        "\n",
        "# Utiliza PCA(n_components=2) para reducir la dimensionalidad"
      ],
      "metadata": {
        "id": "Pb4BNK8fQGAT"
      },
      "execution_count": null,
      "outputs": []
    },
    {
      "cell_type": "code",
      "source": [
        "import altair as alt\n",
        "import seaborn as sns\n",
        "import matplotlib.pyplot as plt\n",
        "\n",
        "# Grafica aquí el mejor cluster encontrado"
      ],
      "metadata": {
        "id": "FQqNeEMKE4SB"
      },
      "execution_count": null,
      "outputs": []
    },
    {
      "cell_type": "markdown",
      "source": [
        "¿Junto a qué países se encuentra Chile?\n",
        "\n",
        "[Comenta]"
      ],
      "metadata": {
        "id": "jSXMUy80l3yS"
      }
    },
    {
      "cell_type": "markdown",
      "source": [
        "# [1 pto] Parte 4: KMeans y MiniBatchKMeans\n",
        "Realiza una búsqueda de hiperparámetros sobre la cantidad de clusters, siendo $n=\\{5, 6, 7, 8\\} $. Realiza esto para el algoritmo KMeans y MiniBatchKMeans. Para cada caso grafica el mejor resultado y comenta las diferencias con el algoritmo de clustering aglomerativo. ¿Cambian los vecinos con los que se ubica Chile?\n"
      ],
      "metadata": {
        "id": "vJV_NJ26QyoU"
      }
    },
    {
      "cell_type": "code",
      "source": [
        "from sklearn.cluster import KMeans, MiniBatchKMeans\n",
        "\n",
        "# Reliza la búsqueda de hiperparámetros para cada uno de los algoritmos"
      ],
      "metadata": {
        "id": "FsTtbFrKQ8R2"
      },
      "execution_count": null,
      "outputs": []
    },
    {
      "cell_type": "code",
      "source": [
        "# Grafica los resultados"
      ],
      "metadata": {
        "id": "yGqxllE1uiOY"
      },
      "execution_count": null,
      "outputs": []
    },
    {
      "cell_type": "markdown",
      "source": [
        "Comenta los resultados respecto al clustering aglomerativo."
      ],
      "metadata": {
        "id": "FzWpKXcUupMo"
      }
    },
    {
      "cell_type": "code",
      "source": [],
      "metadata": {
        "id": "5UYxyJ8zvCwd"
      },
      "execution_count": null,
      "outputs": []
    }
  ]
}